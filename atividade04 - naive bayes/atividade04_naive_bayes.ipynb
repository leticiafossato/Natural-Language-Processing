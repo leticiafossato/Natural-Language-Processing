{
 "cells": [
  {
   "cell_type": "markdown",
   "metadata": {},
   "source": [
    "# Naive Bayes "
   ]
  },
  {
   "cell_type": "code",
   "execution_count": 3,
   "metadata": {
    "ExecuteTime": {
     "end_time": "2021-08-30T01:40:34.185474Z",
     "start_time": "2021-08-30T01:40:30.486495Z"
    }
   },
   "outputs": [],
   "source": [
    "import collections\n",
    "import pandas as pd\n",
    "import string\n",
    "from sklearn.model_selection import train_test_split\n",
    "import seaborn as sn\n",
    "import matplotlib.pyplot as plt\n",
    "from nltk.corpus import stopwords\n",
    "import operator\n",
    "from matplotlib.pyplot import figure"
   ]
  },
  {
   "cell_type": "markdown",
   "metadata": {},
   "source": [
    "## Análise da base de dados"
   ]
  },
  {
   "cell_type": "code",
   "execution_count": 4,
   "metadata": {
    "ExecuteTime": {
     "end_time": "2021-08-30T01:40:34.248892Z",
     "start_time": "2021-08-30T01:40:34.224143Z"
    }
   },
   "outputs": [],
   "source": [
    "def tokenize(text):\n",
    "    text    = text.lower()\n",
    "    text    = text.split()\n",
    "    yield text"
   ]
  },
  {
   "cell_type": "code",
   "execution_count": 5,
   "metadata": {
    "ExecuteTime": {
     "end_time": "2021-08-30T01:40:34.671577Z",
     "start_time": "2021-08-30T01:40:34.287981Z"
    }
   },
   "outputs": [],
   "source": [
    "documentos = pd.read_csv('humor_dataset.csv')\n",
    "documentos = documentos"
   ]
  },
  {
   "cell_type": "code",
   "execution_count": 6,
   "metadata": {
    "ExecuteTime": {
     "end_time": "2021-08-30T01:40:35.728373Z",
     "start_time": "2021-08-30T01:40:34.721015Z"
    }
   },
   "outputs": [],
   "source": [
    "x=[]\n",
    "for i in  documentos['text']:\n",
    "    text_token = next(tokenize(i))\n",
    "    x.append(text_token)\n",
    "documentos['texto_tokenizado'] = x"
   ]
  },
  {
   "cell_type": "code",
   "execution_count": 7,
   "metadata": {
    "ExecuteTime": {
     "end_time": "2021-08-30T01:40:38.794615Z",
     "start_time": "2021-08-30T01:40:36.996876Z"
    }
   },
   "outputs": [
    {
     "data": {
      "text/plain": [
       "[('the', 81972),\n",
       " ('a', 75717),\n",
       " ('to', 53737),\n",
       " ('you', 34521),\n",
       " ('of', 32837),\n",
       " ('in', 32810),\n",
       " ('i', 28618),\n",
       " ('and', 27378),\n",
       " ('what', 26430),\n",
       " ('is', 24458),\n",
       " ('for', 20615),\n",
       " ('do', 19495),\n",
       " ('on', 17363),\n",
       " ('my', 15873),\n",
       " ('with', 14978),\n",
       " ('why', 14731),\n",
       " ('it', 13642),\n",
       " ('how', 12705),\n",
       " ('your', 11610),\n",
       " ('are', 10890),\n",
       " ('did', 10249),\n",
       " ('was', 10216),\n",
       " ('that', 9583),\n",
       " ('at', 9448),\n",
       " ('have', 9284),\n",
       " ('about', 9230),\n",
       " ('like', 8752),\n",
       " ('he', 8634),\n",
       " ('call', 8518),\n",
       " ('an', 8291),\n",
       " ('when', 8279),\n",
       " ('they', 7713),\n",
       " ('his', 7593),\n",
       " ('be', 7584),\n",
       " ('because', 7320),\n",
       " ('from', 7241),\n",
       " ('this', 7131),\n",
       " ('get', 7103),\n",
       " ('just', 6446),\n",
       " ('new', 6370),\n",
       " ('if', 6219),\n",
       " ('trump', 6177),\n",
       " ('who', 5977),\n",
       " ('not', 5975),\n",
       " ('so', 5895),\n",
       " ('can', 5732),\n",
       " (\"it's\", 5627),\n",
       " ('out', 5559),\n",
       " ('but', 5353),\n",
       " (\"what's\", 5335),\n",
       " (\"don't\", 5321),\n",
       " ('does', 5297),\n",
       " ('one', 5238),\n",
       " ('say', 5114),\n",
       " (\"i'm\", 5022),\n",
       " ('all', 4897),\n",
       " ('up', 4870),\n",
       " ('people', 4808),\n",
       " ('as', 4691),\n",
       " ('me', 4656),\n",
       " ('after', 4530),\n",
       " ('her', 4505),\n",
       " ('by', 4329),\n",
       " ('make', 4274),\n",
       " ('(photos)', 4188),\n",
       " ('into', 4163),\n",
       " ('has', 4093),\n",
       " ('will', 4039),\n",
       " ('know', 3951),\n",
       " ('their', 3848),\n",
       " ('no', 3842),\n",
       " ('more', 3605),\n",
       " ('we', 3590),\n",
       " ('donald', 3385),\n",
       " ('man', 3208),\n",
       " ('she', 3204),\n",
       " ('says', 3134),\n",
       " (\"can't\", 3082),\n",
       " ('got', 3008),\n",
       " ('best', 2967),\n",
       " ('black', 2859),\n",
       " ('over', 2852),\n",
       " ('go', 2806),\n",
       " ('never', 2790),\n",
       " ('women', 2755),\n",
       " ('than', 2704),\n",
       " ('would', 2684),\n",
       " ('had', 2683),\n",
       " ('day', 2645),\n",
       " ('take', 2630),\n",
       " ('time', 2623),\n",
       " ('between', 2603),\n",
       " ('two', 2576),\n",
       " ('first', 2509),\n",
       " ('only', 2491),\n",
       " ('should', 2474),\n",
       " ('want', 2459),\n",
       " ('there', 2441),\n",
       " ('hear', 2433),\n",
       " ('could', 2400),\n",
       " ('really', 2342),\n",
       " ('good', 2336),\n",
       " ('most', 2335),\n",
       " ('off', 2228),\n",
       " ('or', 2132),\n",
       " ('love', 2128),\n",
       " ('where', 2122),\n",
       " ('(video)', 2118),\n",
       " (\"you're\", 2082),\n",
       " ('now', 2077),\n",
       " ('difference', 2050),\n",
       " ('always', 2043),\n",
       " ('down', 2013),\n",
       " ('think', 2008),\n",
       " ('life', 2003),\n",
       " ('see', 1964),\n",
       " ('some', 1929),\n",
       " ('need', 1916),\n",
       " ('other', 1911),\n",
       " ('way', 1909),\n",
       " ('too', 1881),\n",
       " ('5', 1876),\n",
       " ('white', 1847),\n",
       " ('tell', 1824),\n",
       " ('many', 1803),\n",
       " ('favorite', 1790),\n",
       " ('kids', 1773),\n",
       " ('gay', 1770),\n",
       " ('were', 1763),\n",
       " ('back', 1763),\n",
       " ('10', 1731),\n",
       " ('joke', 1709),\n",
       " ('its', 1699),\n",
       " ('world', 1694),\n",
       " ('our', 1683),\n",
       " ('them', 1682),\n",
       " (\"trump's\", 1664),\n",
       " (\"doesn't\", 1642),\n",
       " ('being', 1642),\n",
       " ('woman', 1641),\n",
       " ('ever', 1640),\n",
       " ('things', 1636),\n",
       " (\"they're\", 1633),\n",
       " ('going', 1610),\n",
       " ('u.s.', 1604),\n",
       " (\"didn't\", 1600),\n",
       " ('before', 1592),\n",
       " ('still', 1584),\n",
       " ('look', 1581),\n",
       " ('it.', 1573),\n",
       " ('may', 1537),\n",
       " ('!', 1528),\n",
       " ('these', 1502),\n",
       " ('little', 1491),\n",
       " ('every', 1488),\n",
       " ('last', 1487),\n",
       " ('someone', 1470),\n",
       " ('-', 1467),\n",
       " ('gets', 1467),\n",
       " ('house', 1465),\n",
       " ('stop', 1464),\n",
       " ('sex', 1462),\n",
       " ('guy', 1457),\n",
       " ('called', 1449),\n",
       " ('big', 1431),\n",
       " ('?', 1429),\n",
       " ('made', 1421),\n",
       " ('been', 1404),\n",
       " ('--', 1389),\n",
       " ('us', 1388),\n",
       " ('him', 1381),\n",
       " ('baby', 1372),\n",
       " ('thing', 1349),\n",
       " ('knock', 1347),\n",
       " ('find', 1346),\n",
       " ('much', 1322),\n",
       " ('bad', 1317),\n",
       " ('change', 1315),\n",
       " (\"he's\", 1315),\n",
       " ('girl', 1290),\n",
       " ('give', 1289),\n",
       " ('year', 1270),\n",
       " ('getting', 1269),\n",
       " ('bill', 1269),\n",
       " ('home', 1266),\n",
       " ('dog', 1265),\n",
       " ('men', 1264),\n",
       " ('said', 1264),\n",
       " ('put', 1261),\n",
       " ('help', 1257),\n",
       " ('ways', 1256),\n",
       " ('eat', 1249),\n",
       " ('keep', 1245),\n",
       " ('years', 1243),\n",
       " ('use', 1237),\n",
       " ('police', 1234),\n",
       " ('health', 1227),\n",
       " ('&', 1223),\n",
       " ('show', 1212),\n",
       " (\"i've\", 1205),\n",
       " (\"that's\", 1201),\n",
       " ('clinton', 1196),\n",
       " ('even', 1174),\n",
       " ('3', 1166),\n",
       " ('food', 1160),\n",
       " ('then', 1155),\n",
       " ('right', 1149),\n",
       " ('better', 1149),\n",
       " ('makes', 1146),\n",
       " ('obama', 1144),\n",
       " ('hillary', 1129),\n",
       " ('old', 1128),\n",
       " (\"here's\", 1125),\n",
       " ('work', 1118),\n",
       " ('gop', 1115),\n",
       " ('wife', 1107),\n",
       " ('cross', 1107),\n",
       " ('against', 1098),\n",
       " ('during', 1092),\n",
       " ('me:', 1089),\n",
       " ('7', 1087),\n",
       " ('part', 1078),\n",
       " ('wedding', 1074),\n",
       " ('2', 1071),\n",
       " ('any', 1056),\n",
       " ('come', 1049),\n",
       " ('name', 1046),\n",
       " ('both', 1046),\n",
       " ('great', 1043),\n",
       " ('walks', 1043),\n",
       " ('hate', 1039),\n",
       " ('watch', 1038),\n",
       " ('video', 1035),\n",
       " ('school', 1034),\n",
       " (\"won't\", 1033),\n",
       " ('a:', 1032),\n",
       " ('told', 1027),\n",
       " (\"there's\", 1010),\n",
       " ('family', 1009),\n",
       " ('6', 1007),\n",
       " ('dead', 1005),\n",
       " ('lost', 1004),\n",
       " ('without', 1002),\n",
       " ('kind', 1001),\n",
       " ('q:', 1001),\n",
       " ('top', 986),\n",
       " ('found', 977),\n",
       " ('heard', 976),\n",
       " ('wants', 972),\n",
       " ('long', 972),\n",
       " ('week', 971),\n",
       " ('study', 970),\n",
       " ('very', 969),\n",
       " (\"'the\", 956),\n",
       " (\"who's\", 947),\n",
       " ('mom', 946),\n",
       " ('...', 945),\n",
       " ('having', 941),\n",
       " ('real', 939),\n",
       " ('next', 925),\n",
       " ('making', 920),\n",
       " ('went', 917),\n",
       " (\"isn't\", 914),\n",
       " ('while', 913),\n",
       " ('used', 909),\n",
       " ('around', 901),\n",
       " ('through', 898),\n",
       " ('shows', 896),\n",
       " ('own', 889),\n",
       " ('american', 888),\n",
       " ('president', 887),\n",
       " (\"couldn't\", 876),\n",
       " ('red', 873),\n",
       " ('everyone', 869),\n",
       " ('car', 869),\n",
       " (\"i'll\", 857),\n",
       " ('jokes', 855),\n",
       " ('friend', 851),\n",
       " ('girlfriend', 847),\n",
       " ('state', 843),\n",
       " ('goes', 838),\n",
       " ('death', 831),\n",
       " ('john', 826),\n",
       " ('another', 824),\n",
       " ('once', 823),\n",
       " ('wrong', 820),\n",
       " ('play', 818),\n",
       " ('parents', 816),\n",
       " ('which', 809),\n",
       " ('worst', 803),\n",
       " ('care', 797),\n",
       " ('feel', 795),\n",
       " ('8', 792),\n",
       " ('let', 791),\n",
       " ('looks', 787),\n",
       " ('court', 783),\n",
       " ('wear', 782),\n",
       " ('night', 782),\n",
       " ('those', 777),\n",
       " ('star', 770),\n",
       " ('york', 769),\n",
       " ('three', 769),\n",
       " ('girls', 764),\n",
       " ('walk', 761),\n",
       " ('takes', 758),\n",
       " ('common?', 753),\n",
       " ('4', 753),\n",
       " ('high', 753),\n",
       " ('lot', 750),\n",
       " ('news', 747),\n",
       " ('am', 747),\n",
       " ('bar', 742),\n",
       " ('america', 742),\n",
       " ('person', 741),\n",
       " ('hard', 739),\n",
       " ('me.', 736),\n",
       " ('something', 734),\n",
       " ('face', 732),\n",
       " ('fall', 730),\n",
       " ('child', 723),\n",
       " ('money', 721),\n",
       " ('under', 721),\n",
       " ('chicken', 720),\n",
       " ('end', 720),\n",
       " ('live', 719),\n",
       " ('fight', 717),\n",
       " ('twitter', 716),\n",
       " ('might', 715),\n",
       " ('today', 715),\n",
       " ('hit', 713),\n",
       " ('(photo)', 712),\n",
       " ('party', 711),\n",
       " ('guys', 709),\n",
       " ('asked', 708),\n",
       " ('dad', 707),\n",
       " ('north', 706),\n",
       " ('actually', 706),\n",
       " ('marriage', 704),\n",
       " (\"she's\", 703),\n",
       " ('fashion', 701),\n",
       " ('kill', 697),\n",
       " ('here', 696),\n",
       " ('run', 692),\n",
       " ('must', 688),\n",
       " ('christmas', 688),\n",
       " ('calls', 685),\n",
       " ('away', 683),\n",
       " ('wanted', 681),\n",
       " ('hot', 679),\n",
       " ('talk', 678),\n",
       " ('tips', 675),\n",
       " ('comes', 674),\n",
       " ('fat', 672),\n",
       " ('mexican', 666),\n",
       " ('free', 666),\n",
       " ('pretty', 666),\n",
       " ('children', 662),\n",
       " ('climate', 661),\n",
       " ('job', 661),\n",
       " ('ask', 660),\n",
       " ('trying', 659),\n",
       " ('probably', 656),\n",
       " ('start', 655),\n",
       " ('buy', 654),\n",
       " ('sleep', 654),\n",
       " ('movie', 651),\n",
       " ('game', 651),\n",
       " ('million', 650),\n",
       " ('doing', 649),\n",
       " ('finds', 647),\n",
       " ('eating', 644),\n",
       " ('photos', 640),\n",
       " ('music', 635),\n",
       " ('9', 635),\n",
       " ('michael', 634),\n",
       " ('hair', 632),\n",
       " ('full', 630),\n",
       " ('water', 629),\n",
       " ('left', 629),\n",
       " ('thought', 629),\n",
       " ('you.', 624),\n",
       " ('open', 619),\n",
       " ('least', 618),\n",
       " ('election', 617),\n",
       " ('tried', 616),\n",
       " ('pay', 615),\n",
       " ('campaign', 614),\n",
       " ('light', 611),\n",
       " ('super', 611),\n",
       " ('days', 607),\n",
       " ('saw', 605),\n",
       " ('win', 602),\n",
       " ('americans', 600),\n",
       " ('everything', 599),\n",
       " ('report', 597),\n",
       " ('cancer', 596),\n",
       " ('turn', 594),\n",
       " ('kid', 593),\n",
       " ('came', 592),\n",
       " ('son', 592),\n",
       " (\"i'd\", 591),\n",
       " ('book', 591),\n",
       " ('national', 589),\n",
       " ('divorce', 589),\n",
       " ('body', 587),\n",
       " ('finally', 581),\n",
       " ('killed', 580),\n",
       " ('friends', 579),\n",
       " ('sexual', 577),\n",
       " ('tv', 572),\n",
       " ('well', 572),\n",
       " ('shit', 566),\n",
       " ('style', 562),\n",
       " ('1', 562),\n",
       " ('happy', 562),\n",
       " ('facebook', 560),\n",
       " ('war', 560),\n",
       " ('gun', 559),\n",
       " ('nothing', 557),\n",
       " ('history', 556),\n",
       " ('season', 556),\n",
       " ('group', 554),\n",
       " ('boy', 553),\n",
       " ('bernie', 552),\n",
       " ('happens', 552),\n",
       " ('behind', 552),\n",
       " ('coming', 549),\n",
       " ('leave', 549),\n",
       " ('12', 548),\n",
       " ('perfect', 546),\n",
       " ('same', 546),\n",
       " ('phone', 544),\n",
       " ('reasons', 542),\n",
       " ('plan', 541),\n",
       " ('republicans', 540),\n",
       " ('until', 540),\n",
       " ('looking', 539),\n",
       " ('doctor', 537),\n",
       " ('seen', 536),\n",
       " ('cat', 534),\n",
       " ('gives', 531),\n",
       " ('shooting', 530),\n",
       " ('summer', 530),\n",
       " ('coffee', 529),\n",
       " ('heart', 529),\n",
       " ('become', 528),\n",
       " ('travel', 528),\n",
       " ('fucking', 528),\n",
       " (\"aren't\", 527),\n",
       " ('fire', 526),\n",
       " ('kim', 525),\n",
       " ('dress', 525),\n",
       " ('save', 525),\n",
       " ('cause', 525),\n",
       " (\"wasn't\", 523),\n",
       " ('city', 523),\n",
       " ('art', 521),\n",
       " ('times', 520),\n",
       " ('support', 520),\n",
       " ('story', 519),\n",
       " ('try', 518),\n",
       " ('morning', 515),\n",
       " ('using', 514),\n",
       " ('blind', 513),\n",
       " ('stand', 513),\n",
       " ('french', 512),\n",
       " ('meet', 511),\n",
       " ('cut', 509),\n",
       " ('head', 508),\n",
       " ('sure', 508),\n",
       " ('less', 507),\n",
       " ('mean', 505),\n",
       " (\"you've\", 503),\n",
       " ('god', 503),\n",
       " ('whats', 503),\n",
       " ('road?', 503),\n",
       " ('second', 502),\n",
       " ('james', 501),\n",
       " ('college', 501),\n",
       " ('former', 499),\n",
       " ('read', 499),\n",
       " ('business', 499),\n",
       " ('already', 498),\n",
       " ('dick', 495),\n",
       " ('believe', 494),\n",
       " ('letter', 493),\n",
       " ('sanders', 492),\n",
       " ('enough', 491),\n",
       " ('paul', 491),\n",
       " ('rights', 491),\n",
       " ('taking', 490),\n",
       " ('deal', 489),\n",
       " ('fish', 489),\n",
       " ('living', 488),\n",
       " ('wish', 488),\n",
       " ('young', 486),\n",
       " ('supreme', 486),\n",
       " ('small', 485),\n",
       " ('inside', 484),\n",
       " ('drink', 481),\n",
       " ('took', 481),\n",
       " ('tax', 480),\n",
       " ('media', 480),\n",
       " ('social', 480),\n",
       " ('attack', 479),\n",
       " ('holiday', 476),\n",
       " ('senate', 475),\n",
       " ('wall', 474),\n",
       " ('photo', 474),\n",
       " ('pizza', 471),\n",
       " ('jesus', 470),\n",
       " ('again', 470),\n",
       " ('ban', 468),\n",
       " ('case', 467),\n",
       " ('race', 467),\n",
       " ('ice', 466),\n",
       " ('place', 464),\n",
       " ('type', 464),\n",
       " ('them.', 463),\n",
       " ('single', 463),\n",
       " ('vote', 462),\n",
       " ('apple', 462),\n",
       " ('needs', 461),\n",
       " ('green', 460),\n",
       " ('bar...', 460),\n",
       " ('south', 459),\n",
       " ('fuck', 459),\n",
       " ('set', 458),\n",
       " ('word', 458),\n",
       " ('lives', 454),\n",
       " ('democrats', 454),\n",
       " ('jewish', 454),\n",
       " ('2016', 451),\n",
       " ('anyone', 448),\n",
       " ('half', 448),\n",
       " ('each', 447),\n",
       " ('running', 447),\n",
       " ('daughter', 446),\n",
       " ('secret', 446),\n",
       " ('beauty', 443),\n",
       " ('chinese', 442),\n",
       " ('internet', 442),\n",
       " ('street', 441),\n",
       " ('break', 441),\n",
       " ('five', 441),\n",
       " ('future', 441),\n",
       " ('four', 439),\n",
       " ('mother', 439),\n",
       " ('easy', 439),\n",
       " ('myself', 435),\n",
       " ('power', 435),\n",
       " ('female', 434),\n",
       " ('russian', 434),\n",
       " (\"you'll\", 433),\n",
       " ('bring', 432),\n",
       " ('law', 431),\n",
       " ('hand', 431),\n",
       " ('gave', 430),\n",
       " ('reveals', 430),\n",
       " ('turns', 430),\n",
       " ('yo', 429),\n",
       " ('hope', 428),\n",
       " ('happened', 428),\n",
       " ('working', 426),\n",
       " ('film', 426),\n",
       " (\"we're\", 424),\n",
       " ('hitler', 424),\n",
       " ('please', 423),\n",
       " ('.', 423),\n",
       " ('funny', 422),\n",
       " ('shot', 421),\n",
       " ('short', 420),\n",
       " ('racist', 420),\n",
       " ('guess', 420),\n",
       " ('common', 418),\n",
       " ('santa', 417),\n",
       " ('chuck', 415),\n",
       " ('talking', 414),\n",
       " ('talks', 414),\n",
       " ('line', 414),\n",
       " ('giving', 413),\n",
       " ('cold', 413),\n",
       " ('cow', 412),\n",
       " ('middle', 412),\n",
       " ('students', 412),\n",
       " ('stay', 411),\n",
       " ('public', 411),\n",
       " ('remember', 411),\n",
       " ('air', 410),\n",
       " ('muslim', 410),\n",
       " ('named', 409),\n",
       " ('office', 409),\n",
       " ('fun', 409),\n",
       " ('country', 407),\n",
       " ('(and', 407),\n",
       " ('box', 406),\n",
       " ('isis', 406),\n",
       " ('debate', 405),\n",
       " ('pick', 405),\n",
       " ('lose', 405),\n",
       " ('stephen', 404),\n",
       " ('out.', 402),\n",
       " ('russia', 400),\n",
       " ('means', 400),\n",
       " ('afraid', 399),\n",
       " ('up.', 399),\n",
       " ('since', 398),\n",
       " ('words', 397),\n",
       " ('problem', 397),\n",
       " ('human', 397),\n",
       " ('guide', 396),\n",
       " ('huffpost', 395),\n",
       " ('whole', 394),\n",
       " ('died', 394),\n",
       " ('date', 394),\n",
       " ('hey', 393),\n",
       " ('tells', 392),\n",
       " ('wanna', 391),\n",
       " ('20', 391),\n",
       " ('couple', 390),\n",
       " ('chris', 388),\n",
       " ('jimmy', 387),\n",
       " ('judge', 386),\n",
       " ('drug', 386),\n",
       " ('anything', 386),\n",
       " ('met', 385),\n",
       " ('teen', 384),\n",
       " ('sorry', 383),\n",
       " ('learned', 381),\n",
       " ('dogs', 380),\n",
       " ('post', 380),\n",
       " ('11', 377),\n",
       " ('playing', 377),\n",
       " ('space', 376),\n",
       " ('saying', 376),\n",
       " ('california', 375),\n",
       " ('student', 374),\n",
       " ('dating', 373),\n",
       " ('beer', 373),\n",
       " ('die', 373),\n",
       " ('cops', 372),\n",
       " ('team', 372),\n",
       " ('states', 372),\n",
       " ('learn', 371),\n",
       " ('front', 371),\n",
       " ('such', 371),\n",
       " ('brown', 370),\n",
       " ('claims', 369),\n",
       " ('oh', 368),\n",
       " ('congress', 367),\n",
       " ('birthday', 366),\n",
       " ('fox', 366),\n",
       " ('texas', 365),\n",
       " ('15', 365),\n",
       " ('no,', 364),\n",
       " ('ad', 364),\n",
       " ('republican', 364),\n",
       " ('favourite', 363),\n",
       " ('move', 362),\n",
       " ('nice', 362),\n",
       " ('there?', 362),\n",
       " ('beautiful', 361),\n",
       " ('control', 361),\n",
       " ('king', 361),\n",
       " ('reason', 360),\n",
       " ('joke?', 359),\n",
       " ('gonna', 359),\n",
       " ('west', 358),\n",
       " ('started', 358),\n",
       " ('david', 358),\n",
       " ('biggest', 358),\n",
       " ('healthy', 357),\n",
       " ('ryan', 356),\n",
       " ('2013', 355),\n",
       " ('mind', 355),\n",
       " ('step', 354),\n",
       " (\"world's\", 353),\n",
       " ('it?', 352),\n",
       " ('dark', 352),\n",
       " ('lady', 351),\n",
       " ('thinks', 350),\n",
       " ('2014', 350),\n",
       " ('violence', 348),\n",
       " ('side', 348),\n",
       " ('age', 347),\n",
       " ('presidential', 347),\n",
       " ('rock', 346),\n",
       " ('father', 346),\n",
       " ('number', 346),\n",
       " ('halloween', 346),\n",
       " ('online', 345),\n",
       " ('song', 345),\n",
       " ('homeless', 345),\n",
       " (\"let's\", 344),\n",
       " ('wearing', 344),\n",
       " ('bowl', 344),\n",
       " ('worse', 344),\n",
       " ('blonde', 343),\n",
       " ('speech', 342),\n",
       " ('fell', 342),\n",
       " ('almost', 342),\n",
       " ('cover', 341),\n",
       " ('50', 341),\n",
       " ('accused', 340),\n",
       " ('paris', 339),\n",
       " ('major', 339),\n",
       " (\"women's\", 338),\n",
       " ('stars', 337),\n",
       " ('store', 337),\n",
       " ('weight', 336),\n",
       " ('miss', 335),\n",
       " (\"year's\", 334),\n",
       " ('football', 333),\n",
       " ('beat', 333),\n",
       " ('questions', 333),\n",
       " ('asks', 332),\n",
       " ('special', 332),\n",
       " ('order', 331),\n",
       " ('instead', 331),\n",
       " ('taste', 331),\n",
       " ('missing', 330),\n",
       " ('bought', 330),\n",
       " ('government', 330),\n",
       " ('arrested', 330),\n",
       " ('reddit', 330),\n",
       " ('rules', 329),\n",
       " ('six', 329),\n",
       " ('birth', 329),\n",
       " ('understand', 329),\n",
       " ('past', 329),\n",
       " ('taylor', 329),\n",
       " ('recipes', 329),\n",
       " ('florida', 329),\n",
       " ('relationship', 328),\n",
       " ('weekend', 327),\n",
       " ('political', 327),\n",
       " ('harry', 327),\n",
       " ('together', 326),\n",
       " ('clean', 326),\n",
       " ('you?', 325),\n",
       " ('kate', 325),\n",
       " ('wonder', 324),\n",
       " ('fake', 324),\n",
       " ('according', 324),\n",
       " ('list', 323),\n",
       " ('trump’s', 323),\n",
       " (\"haven't\", 321),\n",
       " ('crisis', 321),\n",
       " ('avoid', 321),\n",
       " ('tom', 321),\n",
       " ('hell', 321),\n",
       " ('george', 320),\n",
       " ('kardashian', 319),\n",
       " ('fans', 319),\n",
       " ('drive', 318),\n",
       " ('instagram', 318),\n",
       " ('company', 318),\n",
       " ('animal', 318),\n",
       " ('risk', 317),\n",
       " ('cool', 317),\n",
       " ('latest', 317),\n",
       " (\"wouldn't\", 316),\n",
       " ('blood', 316),\n",
       " ('test', 316),\n",
       " ('security', 316),\n",
       " ('tweets', 315),\n",
       " (\"shouldn't\", 315),\n",
       " ('steps', 315),\n",
       " ('rape', 315),\n",
       " ('korea', 315),\n",
       " ('interview', 314),\n",
       " ('hold', 314),\n",
       " ('ate', 314),\n",
       " ('thanks', 313),\n",
       " ('amazing', 312),\n",
       " ('keeps', 312),\n",
       " ('room', 312),\n",
       " ('turned', 311),\n",
       " ('justin', 311),\n",
       " ('nobody', 311),\n",
       " ('cheese', 310),\n",
       " ('sign', 310),\n",
       " ('yet', 310),\n",
       " ('road', 310),\n",
       " ('moment', 309),\n",
       " ('stuck', 309),\n",
       " ('sometimes', 309),\n",
       " ('pounds', 308),\n",
       " ('throw', 307),\n",
       " ('visit', 307),\n",
       " ('advice', 307),\n",
       " ('china', 307),\n",
       " ('mike', 307),\n",
       " ('shares', 307),\n",
       " ('obamacare', 307),\n",
       " ('walking', 306),\n",
       " ('brain', 305),\n",
       " ('key', 305),\n",
       " ('german', 304),\n",
       " ('married', 304),\n",
       " ('huge', 304),\n",
       " ('teacher', 304),\n",
       " ('awards', 303),\n",
       " ('killing', 303),\n",
       " ('close', 303),\n",
       " ('lead', 302),\n",
       " ('adorable', 302),\n",
       " ('outside', 301),\n",
       " ('one.', 301),\n",
       " ('legs', 300),\n",
       " ('reportedly', 300),\n",
       " ('trip', 300),\n",
       " ('google', 299),\n",
       " ('steve', 299),\n",
       " ('mama', 299),\n",
       " ('idea', 299),\n",
       " ('also', 297),\n",
       " ('blue', 297),\n",
       " ('pope', 296),\n",
       " ('matter', 296),\n",
       " ('calling', 296),\n",
       " ('tree', 295),\n",
       " ('powerful', 295),\n",
       " ('ted', 294),\n",
       " ('justice', 294),\n",
       " ('fit', 294),\n",
       " ('different', 294),\n",
       " ('pregnant', 294),\n",
       " ('trailer', 294),\n",
       " ('day.', 294),\n",
       " ('asian', 293),\n",
       " ('sick', 293),\n",
       " ('series', 293),\n",
       " ('day:', 292),\n",
       " ('toilet', 292),\n",
       " ('penis', 292),\n",
       " ('late', 292),\n",
       " ('prison', 292),\n",
       " ('caught', 292),\n",
       " ('question', 291),\n",
       " ('lgbt', 291),\n",
       " ('sex?', 290),\n",
       " ('true', 290),\n",
       " ('share', 290),\n",
       " ('fan', 290),\n",
       " ('totally', 289),\n",
       " ('now.', 289),\n",
       " ('catch', 289),\n",
       " ('babies', 289),\n",
       " ('telling', 289),\n",
       " ('winter', 288),\n",
       " ('suicide', 288),\n",
       " ('people.', 288),\n",
       " (\"'i\", 288),\n",
       " ('hits', 288),\n",
       " ('me,', 288),\n",
       " ('uses', 287),\n",
       " ('poor', 287),\n",
       " ('trans', 285),\n",
       " ('far', 285),\n",
       " ('knows', 285),\n",
       " ('dinner', 284),\n",
       " ('across', 284),\n",
       " ('horse', 284),\n",
       " ('wins', 284),\n",
       " ('lightbulb?', 283),\n",
       " ('100', 282),\n",
       " ('changed', 282),\n",
       " (\"obama's\", 281),\n",
       " ('time.', 281),\n",
       " ('husband', 281),\n",
       " ('hands', 281),\n",
       " ('spring', 280),\n",
       " ('dies', 280),\n",
       " ('attacks', 280),\n",
       " ('gas', 280),\n",
       " ('worth', 280),\n",
       " ('who?', 279),\n",
       " ('computer', 279),\n",
       " ('apparently', 279),\n",
       " ('democratic', 278),\n",
       " ('pants', 277),\n",
       " ('lessons', 277),\n",
       " ('important', 277),\n",
       " ('gift', 277),\n",
       " ('friday', 277),\n",
       " ('nfl', 277),\n",
       " ('well,', 276),\n",
       " ('sounds', 276),\n",
       " ('knew', 276),\n",
       " ('bank', 276),\n",
       " ('military', 275),\n",
       " ('cop', 275),\n",
       " ('third', 275),\n",
       " ('earth', 275),\n",
       " ('player', 275),\n",
       " ('science', 274),\n",
       " ('likes', 274),\n",
       " ('dream', 274),\n",
       " ('today.', 274),\n",
       " ('yourself', 274),\n",
       " ('mental', 273),\n",
       " ('born', 273),\n",
       " ('simple', 272),\n",
       " ('prince', 272),\n",
       " ('bar.', 272),\n",
       " ('jennifer', 271),\n",
       " ('bird', 271),\n",
       " ('ready', 271),\n",
       " ('push', 270),\n",
       " ('hotel', 270),\n",
       " ('watching', 270),\n",
       " ('michelle', 269),\n",
       " ('door', 269),\n",
       " ('global', 269),\n",
       " ('st.', 269),\n",
       " ('olympic', 269),\n",
       " (\"'snl'\", 268),\n",
       " ('sound', 268),\n",
       " ('porn', 267),\n",
       " ('maybe', 267),\n",
       " ('victims', 267),\n",
       " ('irish', 267),\n",
       " ('elephant', 266),\n",
       " ('bed', 266),\n",
       " ('finding', 266),\n",
       " ('2012', 266),\n",
       " ('bear', 266),\n",
       " ('early', 265),\n",
       " ('gold', 265),\n",
       " ('suggests', 265),\n",
       " ('message', 265),\n",
       " ('drunk', 265),\n",
       " ('fly', 265),\n",
       " ('fighting', 264),\n",
       " ('damn', 264),\n",
       " ('few', 264),\n",
       " ('opens', 264),\n",
       " ('turkey', 263),\n",
       " ('trust', 263),\n",
       " ('sea', 263),\n",
       " ('assault', 263),\n",
       " ('jews', 262),\n",
       " ('park', 262),\n",
       " ('email:', 262),\n",
       " ('march', 262),\n",
       " ('celebrate', 261),\n",
       " ('british', 260),\n",
       " ('drinking', 260),\n",
       " ('thinking', 260),\n",
       " ('broke', 260),\n",
       " ('other?', 260),\n",
       " ('screw', 260),\n",
       " ('mark', 259),\n",
       " ('piece', 259),\n",
       " ('thank', 259),\n",
       " ('jenner', 259),\n",
       " ('teach', 259),\n",
       " ('bet', 259),\n",
       " ('scott', 259),\n",
       " ('you,', 259),\n",
       " ('federal', 259),\n",
       " ('italian', 259),\n",
       " ('moms', 258),\n",
       " ('cruz', 258),\n",
       " ('fear', 257),\n",
       " ('immigration', 257),\n",
       " ('fast', 257),\n",
       " ('straight', 257),\n",
       " ('forget', 256),\n",
       " ('plane', 256),\n",
       " ('san', 256),\n",
       " ('transgender', 255),\n",
       " ('battle', 255),\n",
       " ('paper', 255),\n",
       " ('fired', 255),\n",
       " ('u', 255),\n",
       " ('joe', 254),\n",
       " ('raise', 254),\n",
       " ('dear', 254),\n",
       " ('lesbian', 254),\n",
       " ('surprise', 253),\n",
       " ('class', 253),\n",
       " ('eyes', 253),\n",
       " ('artist', 253),\n",
       " ('works', 253),\n",
       " ('colbert', 253),\n",
       " ('off.', 253),\n",
       " ('restaurant', 253),\n",
       " ('watch:', 252),\n",
       " ('dance', 252),\n",
       " ('it,', 252),\n",
       " ('act', 252),\n",
       " ('norris', 252),\n",
       " ('loss', 252),\n",
       " ('14', 251),\n",
       " ('golden', 249),\n",
       " ('answer', 249),\n",
       " ('role', 249),\n",
       " ('queer', 249),\n",
       " ...]"
      ]
     },
     "execution_count": 7,
     "metadata": {},
     "output_type": "execute_result"
    }
   ],
   "source": [
    "x=[]\n",
    "for i in documentos['texto_tokenizado']:\n",
    "    for j in i:\n",
    "        x.append(j)\n",
    "        \n",
    "palavras_doc = collections.Counter(x)\n",
    "\n",
    "histograma = sorted(palavras_doc.items(),key=operator.itemgetter(1),reverse=True)\n",
    "histograma  "
   ]
  },
  {
   "cell_type": "code",
   "execution_count": 8,
   "metadata": {
    "ExecuteTime": {
     "end_time": "2021-08-30T01:40:40.584811Z",
     "start_time": "2021-08-30T01:40:40.478808Z"
    }
   },
   "outputs": [],
   "source": [
    "palavras=[]\n",
    "valores=[]\n",
    "for i in range(len(histograma)):\n",
    "    palavras.append(histograma[i][0])\n",
    "    valores.append(histograma[i][1])"
   ]
  },
  {
   "cell_type": "code",
   "execution_count": 9,
   "metadata": {
    "ExecuteTime": {
     "end_time": "2021-08-30T01:40:44.115839Z",
     "start_time": "2021-08-30T01:40:42.405426Z"
    },
    "scrolled": true
   },
   "outputs": [
    {
     "data": {
      "text/plain": [
       "<BarContainer object of 100 artists>"
      ]
     },
     "execution_count": 9,
     "metadata": {},
     "output_type": "execute_result"
    },
    {
     "data": {
      "image/png": "[encoded data removed]",
      "text/plain": [
       "<Figure size 1440x720 with 1 Axes>"
      ]
     },
     "metadata": {
      "needs_background": "light"
     },
     "output_type": "display_data"
    }
   ],
   "source": [
    "figure(figsize=(20, 10))\n",
    "plt.xticks(rotation=90)\n",
    "#fig, ax = plt.subplots()\n",
    "plt.bar(palavras[0:100],valores[0:100])"
   ]
  },
  {
   "cell_type": "code",
   "execution_count": 47,
   "metadata": {
    "ExecuteTime": {
     "end_time": "2021-08-30T04:01:07.552569Z",
     "start_time": "2021-08-30T04:01:07.415345Z"
    }
   },
   "outputs": [
    {
     "name": "stdout",
     "output_type": "stream",
     "text": [
      "qtd de frases de humor contendo ? 53056\n",
      "qtd de frases de não humor contendo ? 5255\n"
     ]
    }
   ],
   "source": [
    "contagem_humor=0\n",
    "contagem_n_humor=0\n",
    "for i,j in zip(documentos['text'],documentos['humor']):\n",
    "    if '?' in i:\n",
    "        if j==True:\n",
    "            contagem_humor=contagem_humor+1\n",
    "        else:\n",
    "            contagem_n_humor= contagem_n_humor+1\n",
    "print('qtd de frases de humor contendo ?',contagem_humor)\n",
    "print('qtd de frases de não humor contendo ?',contagem_n_humor)"
   ]
  },
  {
   "cell_type": "markdown",
   "metadata": {},
   "source": [
    "## Implementação Simples Naive Bayes"
   ]
  },
  {
   "cell_type": "code",
   "execution_count": 10,
   "metadata": {
    "ExecuteTime": {
     "end_time": "2021-08-30T01:40:45.929002Z",
     "start_time": "2021-08-30T01:40:45.900919Z"
    }
   },
   "outputs": [],
   "source": [
    "def nv_bayes_train(train_doc, train_class):\n",
    "\n",
    "    total_docs = train_doc.shape[0]    \n",
    "    docs_true  = train_doc[train_class==True]\n",
    "    docs_false = train_doc[train_class==False]\n",
    "\n",
    "    words_true=[]\n",
    "    for lista_true in docs_true:\n",
    "        for word in lista_true:\n",
    "            words_true.append(word)\n",
    "\n",
    "    words_false=[]\n",
    "    for lista_false in docs_false:\n",
    "        for word in lista_false:\n",
    "            words_false.append(word)\n",
    "\n",
    "    vocabulary = list(set(words_true+ words_false))\n",
    "\n",
    "    dict_word_true = collections.Counter(words_true)\n",
    "    total_word_true = len(words_true)\n",
    "    qty_docs_true  = docs_true.shape[0]\n",
    "\n",
    "    dict_word_false = collections.Counter(words_false)\n",
    "    total_word_false = len(words_false)\n",
    "    qty_docs_false = docs_false.shape[0]\n",
    "\n",
    "    #Log prob priori\n",
    "\n",
    "    log_priori_true  = np.log(qty_docs_true/total_docs)\n",
    "    log_priori_false = np.log(qty_docs_false/total_docs)\n",
    "\n",
    "    #log Likelihood\n",
    "\n",
    "    log_dict_likelihood_true = {}\n",
    "    for i in dict_word_true.keys():\n",
    "        log_dict_likelihood_true[i] =  np.log(dict_word_true[i]/total_word_true)\n",
    "\n",
    "    log_dict_likelihood_false = {}\n",
    "    for i in dict_word_false.keys():\n",
    "        log_dict_likelihood_false[i] =  np.log(dict_word_false[i]/total_word_false)\n",
    "\n",
    "\n",
    "    return (log_priori_true, log_priori_false,log_dict_likelihood_true,log_dict_likelihood_false, vocabulary)"
   ]
  },
  {
   "cell_type": "code",
   "execution_count": 11,
   "metadata": {
    "ExecuteTime": {
     "end_time": "2021-08-30T01:40:47.802825Z",
     "start_time": "2021-08-30T01:40:47.789897Z"
    }
   },
   "outputs": [],
   "source": [
    "def nv_bayes_test(test_doc, log_priori_true, log_priori_false, log_likelihood_true, log_likelihood_false, vocabulary):\n",
    "    prob_true  = log_priori_true\n",
    "    prob_false = log_priori_false\n",
    "    for word in test_doc:\n",
    "        if word in list(log_likelihood_true.keys()):\n",
    "            prob_true = prob_true + log_likelihood_true[word]\n",
    "        if word in list(log_likelihood_false.keys()):\n",
    "            prob_false = prob_false + log_likelihood_false[word]\n",
    "\n",
    "    print('true',prob_true)\n",
    "    print('false',prob_false)\n",
    "    if prob_true>prob_false:\n",
    "        x.append(True)\n",
    "    else:\n",
    "        x.append(False)\n",
    "    return x"
   ]
  },
  {
   "cell_type": "code",
   "execution_count": 12,
   "metadata": {
    "ExecuteTime": {
     "end_time": "2021-08-30T01:40:49.548236Z",
     "start_time": "2021-08-30T01:40:49.534316Z"
    }
   },
   "outputs": [],
   "source": [
    "def confusion_matrix(predict_class, real_class):\n",
    "    tp=0\n",
    "    tn=0\n",
    "    fp=0\n",
    "    fn=0\n",
    "    for p,r in zip(predict_class,real_class):\n",
    "        if   (r == True  & p == True):\n",
    "            tp = tp + 1\n",
    "        elif (r == False & p == False):\n",
    "            tn = tn + 1\n",
    "        elif (r == False & p == True):\n",
    "            fp = fp + 1\n",
    "        else:\n",
    "            fn = fn +1\n",
    "    return (tp,tn,fp,fn)"
   ]
  },
  {
   "cell_type": "code",
   "execution_count": 13,
   "metadata": {
    "ExecuteTime": {
     "end_time": "2021-08-30T01:40:51.353446Z",
     "start_time": "2021-08-30T01:40:51.339812Z"
    }
   },
   "outputs": [],
   "source": [
    "def score (tp,tn,fp,fn):\n",
    "    precision = tp/(tp+fp)\n",
    "    recall    = tp/(tp+fn)\n",
    "    accuracy  = (tp+tn)/(tp+fp+fn+tn)\n",
    "    return (precision, recall, accuracy)"
   ]
  },
  {
   "cell_type": "code",
   "execution_count": 14,
   "metadata": {
    "ExecuteTime": {
     "end_time": "2021-08-30T01:40:53.256242Z",
     "start_time": "2021-08-30T01:40:53.181441Z"
    }
   },
   "outputs": [],
   "source": [
    "train_doc, test_doc, train_class, test_class = train_test_split(documentos['texto_tokenizado'], documentos['humor'], test_size=0.20, random_state=42)"
   ]
  },
  {
   "cell_type": "code",
   "execution_count": 15,
   "metadata": {
    "ExecuteTime": {
     "end_time": "2021-08-30T01:40:56.909974Z",
     "start_time": "2021-08-30T01:40:55.150175Z"
    }
   },
   "outputs": [],
   "source": [
    "log_priori_true, log_priori_false, log_likelihood_true, log_likelihood_false, vocabulary = nv_bayes_train(train_doc, train_class)"
   ]
  },
  {
   "cell_type": "code",
   "execution_count": 16,
   "metadata": {
    "ExecuteTime": {
     "end_time": "2021-08-30T01:44:31.928191Z",
     "start_time": "2021-08-30T01:44:31.910102Z"
    }
   },
   "outputs": [],
   "source": [
    "def nv_bayes_test(test_doc, log_priori_true, log_priori_false, log_likelihood_true, log_likelihood_false, vocabulary):\n",
    "    for i in test_doc:\n",
    "        prob_true  = log_priori_true\n",
    "        prob_false = log_priori_false\n",
    "        for word in i:\n",
    "            if word in list(log_likelihood_true.keys()):\n",
    "                prob_true = prob_true + log_likelihood_true[word]\n",
    "            if word in list(log_likelihood_false.keys()):\n",
    "                prob_false = prob_false + log_likelihood_false[word]\n",
    "\n",
    "        #print('true',prob_true)\n",
    "        #print('false',prob_false)\n",
    "        if prob_true>prob_false:\n",
    "            return True\n",
    "        else:\n",
    "            return False"
   ]
  },
  {
   "cell_type": "code",
   "execution_count": 18,
   "metadata": {
    "ExecuteTime": {
     "end_time": "2021-08-30T02:35:37.805133Z",
     "start_time": "2021-08-30T01:45:16.308980Z"
    }
   },
   "outputs": [],
   "source": [
    "predict_class=[]\n",
    "for documento in test_doc:\n",
    "    predicao = nv_bayes_test(documento, log_priori_true, log_priori_false, log_likelihood_true, log_likelihood_false, vocabulary)\n",
    "    predict_class.append(predicao)"
   ]
  },
  {
   "cell_type": "code",
   "execution_count": 19,
   "metadata": {
    "ExecuteTime": {
     "end_time": "2021-08-30T02:59:07.816902Z",
     "start_time": "2021-08-30T02:59:07.792287Z"
    }
   },
   "outputs": [],
   "source": [
    "tp,tn,fp,fn                 = confusion_matrix(predict_class, test_class)\n",
    "precision, recall, accuracy = score(tp,tn,fp,fn)"
   ]
  },
  {
   "cell_type": "code",
   "execution_count": 22,
   "metadata": {
    "ExecuteTime": {
     "end_time": "2021-08-30T03:01:05.398638Z",
     "start_time": "2021-08-30T03:01:05.391635Z"
    }
   },
   "outputs": [
    {
     "data": {
      "text/plain": [
       "40000"
      ]
     },
     "execution_count": 22,
     "metadata": {},
     "output_type": "execute_result"
    }
   ],
   "source": [
    "len(predict_class)"
   ]
  },
  {
   "cell_type": "code",
   "execution_count": 27,
   "metadata": {
    "ExecuteTime": {
     "end_time": "2021-08-30T03:01:59.055870Z",
     "start_time": "2021-08-30T03:01:59.049160Z"
    }
   },
   "outputs": [
    {
     "name": "stdout",
     "output_type": "stream",
     "text": [
      "tp 18435\n",
      "tn 20001\n",
      "fp 0\n",
      "fn 1564\n"
     ]
    }
   ],
   "source": [
    "print('tp',tp)\n",
    "print('tn',tn)\n",
    "print('fp',fp)\n",
    "print('fn',fn)"
   ]
  },
  {
   "cell_type": "code",
   "execution_count": 20,
   "metadata": {
    "ExecuteTime": {
     "end_time": "2021-08-30T02:59:09.773984Z",
     "start_time": "2021-08-30T02:59:09.600319Z"
    }
   },
   "outputs": [
    {
     "data": {
      "image/png": "[encoded data removed]",
      "text/plain": [
       "<Figure size 360x360 with 2 Axes>"
      ]
     },
     "metadata": {
      "needs_background": "light"
     },
     "output_type": "display_data"
    }
   ],
   "source": [
    "array = [[tp,fp], \n",
    "        [fn,tn]]\n",
    "\n",
    "df_cm = pd.DataFrame(array, index = [i for i in \"PN\"], columns = [i for i in \"PN\"])\n",
    "plt.figure(figsize = (5,5))\n",
    "sn.heatmap(df_cm, annot=True)\n",
    "plt.show()"
   ]
  },
  {
   "cell_type": "code",
   "execution_count": 21,
   "metadata": {
    "ExecuteTime": {
     "end_time": "2021-08-30T02:59:13.146820Z",
     "start_time": "2021-08-30T02:59:13.136926Z"
    }
   },
   "outputs": [
    {
     "name": "stdout",
     "output_type": "stream",
     "text": [
      "precision: 1.0\n",
      "recall: 0.9217960898044902\n",
      "accuracy: 0.9609\n"
     ]
    }
   ],
   "source": [
    "score1 = score (tp,tn,fp,fn)\n",
    "print('precision:',score1[0])\n",
    "print('recall:',score1[1])\n",
    "print('accuracy:',score1[2])"
   ]
  },
  {
   "cell_type": "markdown",
   "metadata": {},
   "source": [
    "## Melhoria: remoção de stop words"
   ]
  },
  {
   "cell_type": "code",
   "execution_count": 28,
   "metadata": {
    "ExecuteTime": {
     "end_time": "2021-08-30T03:02:08.264846Z",
     "start_time": "2021-08-30T03:02:08.251041Z"
    }
   },
   "outputs": [],
   "source": [
    "stops = set(stopwords.words('english'))"
   ]
  },
  {
   "cell_type": "code",
   "execution_count": 29,
   "metadata": {
    "ExecuteTime": {
     "end_time": "2021-08-30T03:02:10.047124Z",
     "start_time": "2021-08-30T03:02:10.034105Z"
    }
   },
   "outputs": [
    {
     "name": "stdout",
     "output_type": "stream",
     "text": [
      "like\n",
      "call\n",
      "get\n",
      "new\n",
      "trump\n",
      "what's\n",
      "one\n",
      "say\n",
      "i'm\n",
      "people\n",
      "make\n",
      "(photos)\n",
      "know\n",
      "donald\n",
      "man\n",
      "says\n",
      "can't\n",
      "got\n",
      "best\n",
      "black\n",
      "go\n",
      "never\n",
      "women\n",
      "would\n",
      "day\n",
      "take\n",
      "time\n",
      "two\n",
      "first\n",
      "want\n",
      "hear\n",
      "could\n"
     ]
    }
   ],
   "source": [
    "#Avaliando se as 100 palavras mais frequentes estão nas stop words default\n",
    "for i in palavras[0:100]:\n",
    "    if i not in stops:\n",
    "        print(i)"
   ]
  },
  {
   "cell_type": "code",
   "execution_count": 33,
   "metadata": {
    "ExecuteTime": {
     "end_time": "2021-08-30T03:03:25.640781Z",
     "start_time": "2021-08-30T03:03:25.634795Z"
    }
   },
   "outputs": [],
   "source": [
    "def tokenize2(text):\n",
    "    n_text=[]\n",
    "    text    = text.lower()\n",
    "    text    = text.split()\n",
    "    for i in text:\n",
    "        if i not in list(stops):\n",
    "            n_text.append(i)\n",
    "    yield n_text"
   ]
  },
  {
   "cell_type": "code",
   "execution_count": 35,
   "metadata": {
    "ExecuteTime": {
     "end_time": "2021-08-30T03:03:52.651140Z",
     "start_time": "2021-08-30T03:03:42.363363Z"
    }
   },
   "outputs": [],
   "source": [
    "documentos = pd.read_csv('humor_dataset.csv')\n",
    "\n",
    "x=[]\n",
    "for i in  documentos['text']:\n",
    "    text_token = next(tokenize2(i))\n",
    "    x.append(text_token)\n",
    "documentos['texto_tokenizado'] = x"
   ]
  },
  {
   "cell_type": "code",
   "execution_count": 36,
   "metadata": {
    "ExecuteTime": {
     "end_time": "2021-08-30T03:03:59.292350Z",
     "start_time": "2021-08-30T03:03:59.129181Z"
    }
   },
   "outputs": [],
   "source": [
    "train_doc, test_doc, train_class, test_class = train_test_split(documentos['texto_tokenizado'], documentos['humor'], test_size=0.20, random_state=42)"
   ]
  },
  {
   "cell_type": "code",
   "execution_count": 37,
   "metadata": {
    "ExecuteTime": {
     "end_time": "2021-08-30T03:04:15.526528Z",
     "start_time": "2021-08-30T03:04:14.651415Z"
    }
   },
   "outputs": [],
   "source": [
    "log_priori_true, log_priori_false, log_likelihood_true, log_likelihood_false, vocabulary = nv_bayes_train(train_doc, train_class)"
   ]
  },
  {
   "cell_type": "code",
   "execution_count": 41,
   "metadata": {
    "ExecuteTime": {
     "end_time": "2021-08-30T03:58:14.476405Z",
     "start_time": "2021-08-30T03:05:04.521831Z"
    }
   },
   "outputs": [],
   "source": [
    "predict_class2=[]\n",
    "for documento in test_doc:\n",
    "    predicao = nv_bayes_test(documento, log_priori_true, log_priori_false, log_likelihood_true, log_likelihood_false, vocabulary)\n",
    "    predict_class2.append(predicao)"
   ]
  },
  {
   "cell_type": "code",
   "execution_count": 43,
   "metadata": {
    "ExecuteTime": {
     "end_time": "2021-08-30T03:58:18.469032Z",
     "start_time": "2021-08-30T03:58:18.442146Z"
    }
   },
   "outputs": [],
   "source": [
    "tp,tn,fp,fn                 = confusion_matrix(predict_class2, test_class)\n",
    "precision, recall, accuracy = score(tp,tn,fp,fn)"
   ]
  },
  {
   "cell_type": "code",
   "execution_count": 46,
   "metadata": {
    "ExecuteTime": {
     "end_time": "2021-08-30T03:58:32.750714Z",
     "start_time": "2021-08-30T03:58:32.736969Z"
    }
   },
   "outputs": [
    {
     "name": "stdout",
     "output_type": "stream",
     "text": [
      "tp 14482\n",
      "tn 20001\n",
      "fp 0\n",
      "fn 5517\n"
     ]
    }
   ],
   "source": [
    "print('tp',tp)\n",
    "print('tn',tn)\n",
    "print('fp',fp)\n",
    "print('fn',fn)"
   ]
  },
  {
   "cell_type": "code",
   "execution_count": 44,
   "metadata": {
    "ExecuteTime": {
     "end_time": "2021-08-30T03:58:19.960503Z",
     "start_time": "2021-08-30T03:58:19.836659Z"
    },
    "scrolled": true
   },
   "outputs": [
    {
     "data": {
      "image/png": "[encoded data removed]",
      "text/plain": [
       "<Figure size 360x360 with 2 Axes>"
      ]
     },
     "metadata": {
      "needs_background": "light"
     },
     "output_type": "display_data"
    }
   ],
   "source": [
    "array = [[tp,fp], \n",
    "        [fn,tn]]\n",
    "\n",
    "df_cm = pd.DataFrame(array, index = [i for i in \"PN\"], columns = [i for i in \"PN\"])\n",
    "plt.figure(figsize = (5,5))\n",
    "sn.heatmap(df_cm, annot=True)\n",
    "plt.show()"
   ]
  },
  {
   "cell_type": "code",
   "execution_count": 45,
   "metadata": {
    "ExecuteTime": {
     "end_time": "2021-08-30T03:58:21.661782Z",
     "start_time": "2021-08-30T03:58:21.648817Z"
    }
   },
   "outputs": [
    {
     "name": "stdout",
     "output_type": "stream",
     "text": [
      "precision: 1.0\n",
      "recall: 0.7241362068103405\n",
      "accuracy: 0.862075\n"
     ]
    }
   ],
   "source": [
    "score2 = score (tp,tn,fp,fn)\n",
    "print('precision:',score2[0])\n",
    "print('recall:',score2[1])\n",
    "print('accuracy:',score2[2])"
   ]
  },
  {
   "cell_type": "markdown",
   "metadata": {},
   "source": [
    "## Melhoria: remoção de pontuação (exceto ?), números e stemming"
   ]
  },
  {
   "cell_type": "code",
   "execution_count": null,
   "metadata": {},
   "outputs": [],
   "source": [
    "def tokenize3(text):\n",
    "    n_text=[]\n",
    "    text_stem=[]\n",
    "    text    = re.sub('[!\"#$%&\\'()*+,-./:;<=>@[\\\\]^_`{|}~]','',text)\n",
    "    text    = re.sub('[0-9]','',text)\n",
    "    text    = text.lower()\n",
    "    text    = text.split()\n",
    "    for i in text:\n",
    "        if i not in list(stops):\n",
    "            n_text.append(i)\n",
    "    for w in n_text:\n",
    "        text_stem.append(ps.stem(w))\n",
    "    yield text_stem"
   ]
  },
  {
   "cell_type": "code",
   "execution_count": null,
   "metadata": {},
   "outputs": [],
   "source": [
    "documentos = pd.read_csv('humor_dataset.csv')\n",
    "\n",
    "x=[]\n",
    "for i in  documentos['text']:\n",
    "    text_token = next(tokenize3(i))\n",
    "    x.append(text_token)\n",
    "documentos['texto_tokenizado'] = x"
   ]
  },
  {
   "cell_type": "code",
   "execution_count": null,
   "metadata": {},
   "outputs": [],
   "source": [
    "train_doc, test_doc, train_class, test_class = train_test_split(documentos['texto_tokenizado'], documentos['humor'], test_size=0.20, random_state=42)"
   ]
  },
  {
   "cell_type": "code",
   "execution_count": null,
   "metadata": {},
   "outputs": [],
   "source": [
    "log_priori_true, log_priori_false, log_likelihood_true, log_likelihood_false, vocabulary = nv_bayes_train(train_doc, train_class)"
   ]
  },
  {
   "cell_type": "code",
   "execution_count": null,
   "metadata": {},
   "outputs": [],
   "source": [
    "predict_class3=[]\n",
    "for documento in test_doc:\n",
    "    predicao = nv_bayes_test(documento, log_priori_true, log_priori_false, log_likelihood_true, log_likelihood_false, vocabulary)\n",
    "    predict_class3.append(predicao)"
   ]
  }
 ],
 "metadata": {
  "hide_input": false,
  "kernelspec": {
   "display_name": "Python 3",
   "language": "python",
   "name": "python3"
  },
  "language_info": {
   "codemirror_mode": {
    "name": "ipython",
    "version": 3
   },
   "file_extension": ".py",
   "mimetype": "text/x-python",
   "name": "python",
   "nbconvert_exporter": "python",
   "pygments_lexer": "ipython3",
   "version": "3.8.7"
  },
  "latex_envs": {
   "LaTeX_envs_menu_present": true,
   "autoclose": false,
   "autocomplete": true,
   "bibliofile": "biblio.bib",
   "cite_by": "apalike",
   "current_citInitial": 1,
   "eqLabelWithNumbers": true,
   "eqNumInitial": 1,
   "hotkeys": {
    "equation": "Ctrl-E",
    "itemize": "Ctrl-I"
   },
   "labels_anchors": false,
   "latex_user_defs": false,
   "report_style_numbering": false,
   "user_envs_cfg": false
  },
  "toc": {
   "base_numbering": 1,
   "nav_menu": {},
   "number_sections": true,
   "sideBar": true,
   "skip_h1_title": false,
   "title_cell": "Table of Contents",
   "title_sidebar": "Contents",
   "toc_cell": false,
   "toc_position": {},
   "toc_section_display": true,
   "toc_window_display": false
  },
  "varInspector": {
   "cols": {
    "lenName": 16,
    "lenType": 16,
    "lenVar": 40
   },
   "kernels_config": {
    "python": {
     "delete_cmd_postfix": "",
     "delete_cmd_prefix": "del ",
     "library": "var_list.py",
     "varRefreshCmd": "print(var_dic_list())"
    },
    "r": {
     "delete_cmd_postfix": ") ",
     "delete_cmd_prefix": "rm(",
     "library": "var_list.r",
     "varRefreshCmd": "cat(var_dic_list()) "
    }
   },
   "types_to_exclude": [
    "module",
    "function",
    "builtin_function_or_method",
    "instance",
    "_Feature"
   ],
   "window_display": false
  }
 },
 "nbformat": 4,
 "nbformat_minor": 4
}
